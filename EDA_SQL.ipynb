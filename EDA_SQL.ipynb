{
  "cells": [
    {
      "cell_type": "markdown",
      "metadata": {
        "id": "62f5e5fc-c21f-4a5b-8e79-5ad7c2c32331"
      },
      "source": [
        "<p style=\"text-align:center\">\n",
        "    <a href=\"https://skills.network/?utm_medium=Exinfluencer&utm_source=Exinfluencer&utm_content=000026UJ&utm_term=10006555&utm_id=NA-SkillsNetwork-Channel-SkillsNetworkCoursesIBMDS0321ENSkillsNetwork865-2022-01-01\" target=\"_blank\">\n",
        "    <img src=\"https://cf-courses-data.s3.us.cloud-object-storage.appdomain.cloud/assets/logos/SN_web_lightmode.png\" width=\"200\" alt=\"Skills Network Logo\"  />\n",
        "    </a>\n",
        "</p>\n",
        "\n",
        "<h1 align=center><font size = 5>Assignment: SQL Notebook for Peer Assignment</font></h1>\n",
        "\n",
        "Estimated time needed: **60** minutes.\n",
        "\n",
        "## Introduction\n",
        "Using this Python notebook you will:\n",
        "\n",
        "1.  Understand the Spacex DataSet\n",
        "2.  Load the dataset  into the corresponding table in a Db2 database\n",
        "3.  Execute SQL queries to answer assignment questions \n"
      ]
    },
    {
      "cell_type": "markdown",
      "metadata": {
        "id": "28b87e78-66b4-42a6-bc76-a8c3e9122b81"
      },
      "source": [
        "## Overview of the DataSet\n",
        "\n",
        "SpaceX has gained worldwide attention for a series of historic milestones. \n",
        "\n",
        "It is the only private company ever to return a spacecraft from low-earth orbit, which it first accomplished in December 2010.\n",
        "SpaceX advertises Falcon 9 rocket launches on its website with a cost of 62 million dollars wheras other providers cost upward of 165 million dollars each, much of the savings is because Space X can reuse the first stage. \n",
        "\n",
        "\n",
        "Therefore if we can determine if the first stage will land, we can determine the cost of a launch. \n",
        "\n",
        "This information can be used if an alternate company wants to bid against SpaceX for a rocket launch.\n",
        "\n",
        "This dataset includes a record for each payload carried during a SpaceX mission into outer space.\n"
      ]
    },
    {
      "cell_type": "markdown",
      "metadata": {
        "id": "ffe8c135-38dc-4e01-9956-5f5bc504f285"
      },
      "source": [
        "### Download the datasets\n",
        "\n",
        "This assignment requires you to load the spacex dataset.\n",
        "\n",
        "In many cases the dataset to be analyzed is available as a .CSV (comma separated values) file, perhaps on the internet. Click on the link below to download and save the dataset (.CSV file):\n",
        "\n",
        " <a href=\"https://cf-courses-data.s3.us.cloud-object-storage.appdomain.cloud/IBM-DS0321EN-SkillsNetwork/labs/module_2/data/Spacex.csv\" target=\"_blank\">Spacex DataSet</a>\n",
        "\n"
      ]
    },
    {
      "cell_type": "code",
      "metadata": {
        "colab": {
          "base_uri": "https://localhost:8080/"
        },
        "id": "c00de771-8c83-4dc5-8592-fa6178faeeae",
        "outputId": "493cfa92-7c4d-4b41-c932-bf91e31d2c77"
      },
      "outputs": [
        {
          "output_type": "stream",
          "name": "stdout",
          "text": [
            "Looking in indexes: https://pypi.org/simple, https://us-python.pkg.dev/colab-wheels/public/simple/\n",
            "Collecting sqlalchemy==1.3.9\n",
            "  Downloading SQLAlchemy-1.3.9.tar.gz (6.0 MB)\n",
            "\u001b[2K     \u001b[90m━━━━━━━━━━━━━━━━━━━━━━━━━━━━━━━━━━━━━━━━\u001b[0m \u001b[32m6.0/6.0 MB\u001b[0m \u001b[31m42.5 MB/s\u001b[0m eta \u001b[36m0:00:00\u001b[0m\n",
            "\u001b[?25h  Preparing metadata (setup.py) ... \u001b[?25l\u001b[?25hdone\n",
            "Building wheels for collected packages: sqlalchemy\n",
            "  Building wheel for sqlalchemy (setup.py) ... \u001b[?25l\u001b[?25hdone\n",
            "  Created wheel for sqlalchemy: filename=SQLAlchemy-1.3.9-cp310-cp310-linux_x86_64.whl size=1207925 sha256=195ae7c3dccba796ba9d4970fc7666c33568283ca2cc2c779a9e431f6822508a\n",
            "  Stored in directory: /root/.cache/pip/wheels/8b/6d/9c/e1793e5a2d85b89b8c362a4f0e3def54b786bcd14923b9ff00\n",
            "Successfully built sqlalchemy\n",
            "Installing collected packages: sqlalchemy\n",
            "  Attempting uninstall: sqlalchemy\n",
            "    Found existing installation: SQLAlchemy 2.0.10\n",
            "    Uninstalling SQLAlchemy-2.0.10:\n",
            "      Successfully uninstalled SQLAlchemy-2.0.10\n",
            "Successfully installed sqlalchemy-1.3.9\n"
          ]
        }
      ],
      "source": [
        "!pip install sqlalchemy==1.3.9\n"
      ],
      "execution_count": 1
    },
    {
      "cell_type": "markdown",
      "metadata": {
        "id": "21bfcb4f-176e-40d8-a398-4de8fd56d2f3"
      },
      "source": [
        "### Connect to the database\n",
        "\n",
        "Let us first load the SQL extension and establish a connection with the database\n"
      ]
    },
    {
      "cell_type": "code",
      "metadata": {
        "id": "fcb6ec57-e566-49bc-921f-83c4fa2046d0"
      },
      "outputs": [],
      "source": [
        "%load_ext sql"
      ],
      "execution_count": 2
    },
    {
      "cell_type": "code",
      "metadata": {
        "id": "6e472564-b81a-4ab7-9f81-8a887f99e46f"
      },
      "outputs": [],
      "source": [
        "import csv, sqlite3\n",
        "\n",
        "con = sqlite3.connect(\"my_data1.db\")\n",
        "cur = con.cursor()"
      ],
      "execution_count": 3
    },
    {
      "cell_type": "code",
      "metadata": {
        "colab": {
          "base_uri": "https://localhost:8080/"
        },
        "id": "a39f4990-90f3-4b4b-bc2c-c2c7f031e355",
        "outputId": "ad946b24-906d-494a-bcda-98af2560f376"
      },
      "outputs": [
        {
          "output_type": "stream",
          "name": "stdout",
          "text": [
            "  Getting requirements to build wheel ... \u001b[?25l\u001b[?25hcanceled\n",
            "\u001b[31mERROR: Operation cancelled by user\u001b[0m\u001b[31m\n",
            "\u001b[0m"
          ]
        }
      ],
      "source": [
        "!pip install -q pandas==1.1.5"
      ],
      "execution_count": 4
    },
    {
      "cell_type": "code",
      "metadata": {
        "id": "6c405952-7668-42cd-8f1d-359b527d0575"
      },
      "outputs": [],
      "source": [
        "%sql sqlite:///my_data1.db"
      ],
      "execution_count": 5
    },
    {
      "cell_type": "code",
      "metadata": {
        "colab": {
          "base_uri": "https://localhost:8080/"
        },
        "id": "2717bc34-beac-4bd7-a89e-c4a41e8157f8",
        "outputId": "d3d3b7d9-3763-4137-9778-5aaacd733d0d"
      },
      "outputs": [
        {
          "output_type": "execute_result",
          "data": {
            "text/plain": [
              "999"
            ]
          },
          "metadata": {},
          "execution_count": 7
        }
      ],
      "source": [
        "import pandas as pd\n",
        "df = pd.read_csv(\"https://cf-courses-data.s3.us.cloud-object-storage.appdomain.cloud/IBM-DS0321EN-SkillsNetwork/labs/module_2/data/Spacex.csv\")\n",
        "df.to_sql(\"SPACEXTBL\", con, if_exists='replace', index=False,method=\"multi\")"
      ],
      "execution_count": 7
    },
    {
      "cell_type": "markdown",
      "metadata": {
        "id": "aeb3df77-52db-4f77-90a0-bbf6760b1125"
      },
      "source": [
        "## Tasks\n",
        "\n",
        "Now write and execute SQL queries to solve the assignment tasks.\n",
        "\n",
        "**Note: If the column names are in mixed case enclose it in double quotes\n",
        "   For Example \"Landing_Outcome\"**\n",
        "\n",
        "### Task 1\n",
        "\n",
        "\n",
        "\n",
        "\n",
        "##### Display the names of the unique launch sites  in the space mission\n"
      ]
    },
    {
      "cell_type": "code",
      "metadata": {
        "colab": {
          "base_uri": "https://localhost:8080/",
          "height": 179
        },
        "id": "064f242f-3e91-4990-9f3c-131f1f60cec3",
        "outputId": "cad22d73-fc93-434a-c5fc-519858650b14"
      },
      "outputs": [
        {
          "output_type": "stream",
          "name": "stdout",
          "text": [
            " * sqlite:///my_data1.db\n",
            "Done.\n"
          ]
        },
        {
          "output_type": "execute_result",
          "data": {
            "text/plain": [
              "[(None,),\n",
              " ('CCAFS LC-40',),\n",
              " ('CCAFS SLC-40',),\n",
              " ('KSC LC-39A',),\n",
              " ('VAFB SLC-4E',)]"
            ],
            "text/html": [
              "<table>\n",
              "    <tr>\n",
              "        <th>Launch_Site</th>\n",
              "    </tr>\n",
              "    <tr>\n",
              "        <td>None</td>\n",
              "    </tr>\n",
              "    <tr>\n",
              "        <td>CCAFS LC-40</td>\n",
              "    </tr>\n",
              "    <tr>\n",
              "        <td>CCAFS SLC-40</td>\n",
              "    </tr>\n",
              "    <tr>\n",
              "        <td>KSC LC-39A</td>\n",
              "    </tr>\n",
              "    <tr>\n",
              "        <td>VAFB SLC-4E</td>\n",
              "    </tr>\n",
              "</table>"
            ]
          },
          "metadata": {},
          "execution_count": 9
        }
      ],
      "source": [
        "sql SELECT DISTINCT LAUNCH_SITE FROM SPACEXTBL ORDER BY 1;"
      ],
      "execution_count": 9
    },
    {
      "cell_type": "markdown",
      "metadata": {
        "id": "6ad3ca6d-02c4-47cc-bcb6-b2f375e29f14"
      },
      "source": [
        "\n",
        "### Task 2\n",
        "\n",
        "\n",
        "#####  Display 5 records where launch sites begin with the string 'CCA' \n"
      ]
    },
    {
      "cell_type": "code",
      "metadata": {
        "colab": {
          "base_uri": "https://localhost:8080/",
          "height": 179
        },
        "id": "c8b96954-f622-40f1-afa5-d242dd0151b4",
        "outputId": "e3ca0705-78b8-4122-eaec-e6e795f19939"
      },
      "outputs": [
        {
          "output_type": "stream",
          "name": "stdout",
          "text": [
            " * sqlite:///my_data1.db\n",
            "Done.\n"
          ]
        },
        {
          "output_type": "execute_result",
          "data": {
            "text/plain": [
              "[('06/04/2010', '18:45:00', 'F9 v1.0  B0003', 'CCAFS LC-40', 'Dragon Spacecraft Qualification Unit', 0.0, 'LEO', 'SpaceX', 'Success', 'Failure (parachute)'),\n",
              " ('12/08/2010', '15:43:00', 'F9 v1.0  B0004', 'CCAFS LC-40', 'Dragon demo flight C1, two CubeSats, barrel of Brouere cheese', 0.0, 'LEO (ISS)', 'NASA (COTS) NRO', 'Success', 'Failure (parachute)'),\n",
              " ('22/05/2012', '7:44:00', 'F9 v1.0  B0005', 'CCAFS LC-40', 'Dragon demo flight C2', 525.0, 'LEO (ISS)', 'NASA (COTS)', 'Success', 'No attempt'),\n",
              " ('10/08/2012', '0:35:00', 'F9 v1.0  B0006', 'CCAFS LC-40', 'SpaceX CRS-1', 500.0, 'LEO (ISS)', 'NASA (CRS)', 'Success', 'No attempt'),\n",
              " ('03/01/2013', '15:10:00', 'F9 v1.0  B0007', 'CCAFS LC-40', 'SpaceX CRS-2', 677.0, 'LEO (ISS)', 'NASA (CRS)', 'Success', 'No attempt')]"
            ],
            "text/html": [
              "<table>\n",
              "    <tr>\n",
              "        <th>Date</th>\n",
              "        <th>Time (UTC)</th>\n",
              "        <th>Booster_Version</th>\n",
              "        <th>Launch_Site</th>\n",
              "        <th>Payload</th>\n",
              "        <th>PAYLOAD_MASS__KG_</th>\n",
              "        <th>Orbit</th>\n",
              "        <th>Customer</th>\n",
              "        <th>Mission_Outcome</th>\n",
              "        <th>Landing_Outcome</th>\n",
              "    </tr>\n",
              "    <tr>\n",
              "        <td>06/04/2010</td>\n",
              "        <td>18:45:00</td>\n",
              "        <td>F9 v1.0  B0003</td>\n",
              "        <td>CCAFS LC-40</td>\n",
              "        <td>Dragon Spacecraft Qualification Unit</td>\n",
              "        <td>0.0</td>\n",
              "        <td>LEO</td>\n",
              "        <td>SpaceX</td>\n",
              "        <td>Success</td>\n",
              "        <td>Failure (parachute)</td>\n",
              "    </tr>\n",
              "    <tr>\n",
              "        <td>12/08/2010</td>\n",
              "        <td>15:43:00</td>\n",
              "        <td>F9 v1.0  B0004</td>\n",
              "        <td>CCAFS LC-40</td>\n",
              "        <td>Dragon demo flight C1, two CubeSats, barrel of Brouere cheese</td>\n",
              "        <td>0.0</td>\n",
              "        <td>LEO (ISS)</td>\n",
              "        <td>NASA (COTS) NRO</td>\n",
              "        <td>Success</td>\n",
              "        <td>Failure (parachute)</td>\n",
              "    </tr>\n",
              "    <tr>\n",
              "        <td>22/05/2012</td>\n",
              "        <td>7:44:00</td>\n",
              "        <td>F9 v1.0  B0005</td>\n",
              "        <td>CCAFS LC-40</td>\n",
              "        <td>Dragon demo flight C2</td>\n",
              "        <td>525.0</td>\n",
              "        <td>LEO (ISS)</td>\n",
              "        <td>NASA (COTS)</td>\n",
              "        <td>Success</td>\n",
              "        <td>No attempt</td>\n",
              "    </tr>\n",
              "    <tr>\n",
              "        <td>10/08/2012</td>\n",
              "        <td>0:35:00</td>\n",
              "        <td>F9 v1.0  B0006</td>\n",
              "        <td>CCAFS LC-40</td>\n",
              "        <td>SpaceX CRS-1</td>\n",
              "        <td>500.0</td>\n",
              "        <td>LEO (ISS)</td>\n",
              "        <td>NASA (CRS)</td>\n",
              "        <td>Success</td>\n",
              "        <td>No attempt</td>\n",
              "    </tr>\n",
              "    <tr>\n",
              "        <td>03/01/2013</td>\n",
              "        <td>15:10:00</td>\n",
              "        <td>F9 v1.0  B0007</td>\n",
              "        <td>CCAFS LC-40</td>\n",
              "        <td>SpaceX CRS-2</td>\n",
              "        <td>677.0</td>\n",
              "        <td>LEO (ISS)</td>\n",
              "        <td>NASA (CRS)</td>\n",
              "        <td>Success</td>\n",
              "        <td>No attempt</td>\n",
              "    </tr>\n",
              "</table>"
            ]
          },
          "metadata": {},
          "execution_count": 10
        }
      ],
      "source": [
        "sql SELECT * FROM SPACEXTBL WHERE LAUNCH_SITE LIKE 'CCA%' LIMIT 5;"
      ],
      "execution_count": 10
    },
    {
      "cell_type": "markdown",
      "metadata": {
        "id": "a1245fe9-e9c7-4d3f-8e39-5f0763511ab0"
      },
      "source": [
        "### Task 3\n",
        "\n",
        "\n",
        "\n",
        "\n",
        "##### Display the total payload mass carried by boosters launched by NASA (CRS)\n"
      ]
    },
    {
      "cell_type": "code",
      "metadata": {
        "colab": {
          "base_uri": "https://localhost:8080/",
          "height": 95
        },
        "id": "bca5e349-bd05-4ace-b1c8-9eeea1b46a32",
        "outputId": "bc6255fe-ab51-4d88-be1d-5906f11e625e"
      },
      "outputs": [
        {
          "output_type": "stream",
          "name": "stdout",
          "text": [
            " * sqlite:///my_data1.db\n",
            "Done.\n"
          ]
        },
        {
          "output_type": "execute_result",
          "data": {
            "text/plain": [
              "[(111268.0,)]"
            ],
            "text/html": [
              "<table>\n",
              "    <tr>\n",
              "        <th>TOTAL_PAYLOAD</th>\n",
              "    </tr>\n",
              "    <tr>\n",
              "        <td>111268.0</td>\n",
              "    </tr>\n",
              "</table>"
            ]
          },
          "metadata": {},
          "execution_count": 11
        }
      ],
      "source": [
        "sql SELECT SUM(PAYLOAD_MASS__KG_) AS TOTAL_PAYLOAD FROM SPACEXTBL WHERE PAYLOAD  LIKE '%CRS%';"
      ],
      "execution_count": 11
    },
    {
      "cell_type": "markdown",
      "metadata": {
        "id": "68009afe-0c04-408b-a3ea-fccb5a4c2a85"
      },
      "source": [
        "### Task 4\n",
        "\n",
        "\n",
        "\n",
        "\n",
        "##### Display average payload mass carried by booster version F9 v1.1\n"
      ]
    },
    {
      "cell_type": "code",
      "metadata": {
        "colab": {
          "base_uri": "https://localhost:8080/",
          "height": 95
        },
        "id": "c9ab7fe6-b18c-4a77-86b2-61c398c58c43",
        "outputId": "7385c1fd-1b24-4841-b077-f96009c2616c"
      },
      "outputs": [
        {
          "output_type": "stream",
          "name": "stdout",
          "text": [
            " * sqlite:///my_data1.db\n",
            "Done.\n"
          ]
        },
        {
          "output_type": "execute_result",
          "data": {
            "text/plain": [
              "[(2928.4,)]"
            ],
            "text/html": [
              "<table>\n",
              "    <tr>\n",
              "        <th>AVG_PAYLOAD</th>\n",
              "    </tr>\n",
              "    <tr>\n",
              "        <td>2928.4</td>\n",
              "    </tr>\n",
              "</table>"
            ]
          },
          "metadata": {},
          "execution_count": 12
        }
      ],
      "source": [
        "sql SELECT AVG(PAYLOAD_MASS__KG_) AS AVG_PAYLOAD FROM SPACEXTBL WHERE BOOSTER_VERSION = 'F9 v1.1';"
      ],
      "execution_count": 12
    },
    {
      "cell_type": "markdown",
      "metadata": {
        "id": "daf51f8c-68ab-4bec-9e00-f0816f7afe69"
      },
      "source": [
        "### Task 5\n",
        "\n",
        "##### List the date when the first succesful landing outcome in ground pad was acheived.\n",
        "\n",
        "\n",
        "_Hint:Use min function_ \n"
      ]
    },
    {
      "cell_type": "code",
      "metadata": {
        "colab": {
          "base_uri": "https://localhost:8080/",
          "height": 95
        },
        "id": "ccb7b534-8ad1-47d4-ad4f-fa0d44cb7d7f",
        "outputId": "cdcc4283-19a5-48e3-c78a-703c6478e2c6"
      },
      "outputs": [
        {
          "output_type": "stream",
          "name": "stdout",
          "text": [
            " * sqlite:///my_data1.db\n",
            "Done.\n"
          ]
        },
        {
          "output_type": "execute_result",
          "data": {
            "text/plain": [
              "[('01/08/2018',)]"
            ],
            "text/html": [
              "<table>\n",
              "    <tr>\n",
              "        <th>FIRST_SUCCESS_GP</th>\n",
              "    </tr>\n",
              "    <tr>\n",
              "        <td>01/08/2018</td>\n",
              "    </tr>\n",
              "</table>"
            ]
          },
          "metadata": {},
          "execution_count": 43
        }
      ],
      "source": [
        "sql SELECT MIN(DATE) AS FIRST_SUCCESS_GP FROM SPACEXTBL WHERE LANDING_OUTCOME = 'Success (ground pad)';"
      ],
      "execution_count": 43
    },
    {
      "cell_type": "markdown",
      "metadata": {
        "id": "f3b0a30d-0c0e-4438-8ec8-94ff0bfa6241"
      },
      "source": [
        "### Task 6\n",
        "\n",
        "##### List the names of the boosters which have success in drone ship and have payload mass greater than 4000 but less than 6000\n"
      ]
    },
    {
      "cell_type": "code",
      "metadata": {
        "colab": {
          "base_uri": "https://localhost:8080/",
          "height": 158
        },
        "id": "a8a46f10-b7c2-4c2c-836a-21e9289107c5",
        "outputId": "ad9d21c8-3b88-4f24-b8ba-87562abf9fc8"
      },
      "outputs": [
        {
          "output_type": "stream",
          "name": "stdout",
          "text": [
            " * sqlite:///my_data1.db\n",
            "Done.\n"
          ]
        },
        {
          "output_type": "execute_result",
          "data": {
            "text/plain": [
              "[('F9 FT B1022',), ('F9 FT B1026',), ('F9 FT  B1021.2',), ('F9 FT  B1031.2',)]"
            ],
            "text/html": [
              "<table>\n",
              "    <tr>\n",
              "        <th>Booster_Version</th>\n",
              "    </tr>\n",
              "    <tr>\n",
              "        <td>F9 FT B1022</td>\n",
              "    </tr>\n",
              "    <tr>\n",
              "        <td>F9 FT B1026</td>\n",
              "    </tr>\n",
              "    <tr>\n",
              "        <td>F9 FT  B1021.2</td>\n",
              "    </tr>\n",
              "    <tr>\n",
              "        <td>F9 FT  B1031.2</td>\n",
              "    </tr>\n",
              "</table>"
            ]
          },
          "metadata": {},
          "execution_count": 25
        }
      ],
      "source": [
        " sql select BOOSTER_VERSION FROM SpaceXTBL WHERE LANDING_OUTCOME = 'Success (drone ship)'AND PAYLOAD_MASS__KG_ > 4000 AND PAYLOAD_MASS__KG_ < 6000"
      ],
      "execution_count": 25
    },
    {
      "cell_type": "markdown",
      "metadata": {
        "id": "3b2e99ee-3df2-4059-93fd-0397c93e87a1"
      },
      "source": [
        "### Task 7\n",
        "\n",
        "\n",
        "\n",
        "\n",
        "##### List the total number of successful and failure mission outcomes\n"
      ]
    },
    {
      "cell_type": "code",
      "metadata": {
        "colab": {
          "base_uri": "https://localhost:8080/",
          "height": 179
        },
        "id": "33a28c37-4c70-4a2f-a863-c711e5685b29",
        "outputId": "92b82c97-ace9-4056-d84b-ad12aa0cbe4f"
      },
      "outputs": [
        {
          "output_type": "stream",
          "name": "stdout",
          "text": [
            " * sqlite:///my_data1.db\n",
            "Done.\n"
          ]
        },
        {
          "output_type": "execute_result",
          "data": {
            "text/plain": [
              "[(None, 898),\n",
              " ('Failure (in flight)', 1),\n",
              " ('Success', 98),\n",
              " ('Success ', 1),\n",
              " ('Success (payload status unclear)', 1)]"
            ],
            "text/html": [
              "<table>\n",
              "    <tr>\n",
              "        <th>Mission_Outcome</th>\n",
              "        <th>QTY</th>\n",
              "    </tr>\n",
              "    <tr>\n",
              "        <td>None</td>\n",
              "        <td>898</td>\n",
              "    </tr>\n",
              "    <tr>\n",
              "        <td>Failure (in flight)</td>\n",
              "        <td>1</td>\n",
              "    </tr>\n",
              "    <tr>\n",
              "        <td>Success</td>\n",
              "        <td>98</td>\n",
              "    </tr>\n",
              "    <tr>\n",
              "        <td>Success </td>\n",
              "        <td>1</td>\n",
              "    </tr>\n",
              "    <tr>\n",
              "        <td>Success (payload status unclear)</td>\n",
              "        <td>1</td>\n",
              "    </tr>\n",
              "</table>"
            ]
          },
          "metadata": {},
          "execution_count": 26
        }
      ],
      "source": [
        "sql SELECT MISSION_OUTCOME, COUNT(*) AS QTY FROM SPACEXTBL GROUP BY MISSION_OUTCOME ORDER BY MISSION_OUTCOME;"
      ],
      "execution_count": 26
    },
    {
      "cell_type": "markdown",
      "metadata": {
        "id": "660e7f9f-6936-4b84-b419-ca94c04f99e2"
      },
      "source": [
        "### Task 8\n",
        "\n",
        "\n",
        "\n",
        "##### List the   names of the booster_versions which have carried the maximum payload mass. Use a subquery\n"
      ]
    },
    {
      "cell_type": "code",
      "metadata": {
        "colab": {
          "base_uri": "https://localhost:8080/",
          "height": 326
        },
        "id": "c3d08631-cbc4-42f1-aa3a-d68e2edad72c",
        "outputId": "e0129df0-5170-420f-d4d8-c340e57d26dc"
      },
      "outputs": [
        {
          "output_type": "stream",
          "name": "stdout",
          "text": [
            " * sqlite:///my_data1.db\n",
            "Done.\n"
          ]
        },
        {
          "output_type": "execute_result",
          "data": {
            "text/plain": [
              "[('F9 B5 B1048.4',),\n",
              " ('F9 B5 B1048.5',),\n",
              " ('F9 B5 B1049.4',),\n",
              " ('F9 B5 B1049.5',),\n",
              " ('F9 B5 B1049.7 ',),\n",
              " ('F9 B5 B1051.3',),\n",
              " ('F9 B5 B1051.4',),\n",
              " ('F9 B5 B1051.6',),\n",
              " ('F9 B5 B1056.4',),\n",
              " ('F9 B5 B1058.3 ',),\n",
              " ('F9 B5 B1060.2 ',),\n",
              " ('F9 B5 B1060.3',)]"
            ],
            "text/html": [
              "<table>\n",
              "    <tr>\n",
              "        <th>Booster_Version</th>\n",
              "    </tr>\n",
              "    <tr>\n",
              "        <td>F9 B5 B1048.4</td>\n",
              "    </tr>\n",
              "    <tr>\n",
              "        <td>F9 B5 B1048.5</td>\n",
              "    </tr>\n",
              "    <tr>\n",
              "        <td>F9 B5 B1049.4</td>\n",
              "    </tr>\n",
              "    <tr>\n",
              "        <td>F9 B5 B1049.5</td>\n",
              "    </tr>\n",
              "    <tr>\n",
              "        <td>F9 B5 B1049.7 </td>\n",
              "    </tr>\n",
              "    <tr>\n",
              "        <td>F9 B5 B1051.3</td>\n",
              "    </tr>\n",
              "    <tr>\n",
              "        <td>F9 B5 B1051.4</td>\n",
              "    </tr>\n",
              "    <tr>\n",
              "        <td>F9 B5 B1051.6</td>\n",
              "    </tr>\n",
              "    <tr>\n",
              "        <td>F9 B5 B1056.4</td>\n",
              "    </tr>\n",
              "    <tr>\n",
              "        <td>F9 B5 B1058.3 </td>\n",
              "    </tr>\n",
              "    <tr>\n",
              "        <td>F9 B5 B1060.2 </td>\n",
              "    </tr>\n",
              "    <tr>\n",
              "        <td>F9 B5 B1060.3</td>\n",
              "    </tr>\n",
              "</table>"
            ]
          },
          "metadata": {},
          "execution_count": 27
        }
      ],
      "source": [
        "sql SELECT DISTINCT BOOSTER_VERSION FROM SPACEXTBL WHERE PAYLOAD_MASS__KG_ = (SELECT MAX(PAYLOAD_MASS__KG_) FROM SPACEXTBL) ORDER BY BOOSTER_VERSION"
      ],
      "execution_count": 27
    },
    {
      "cell_type": "markdown",
      "metadata": {
        "id": "008f7c68-5946-43c4-9945-1a45e603eb35"
      },
      "source": [
        "### Task 9\n",
        "\n",
        "\n",
        "##### List the records which will display the month names, failure landing_outcomes in drone ship ,booster versions, launch_site for the months in year 2015.\n",
        "\n",
        "**Note: SQLLite does not support monthnames. So you need to use  substr(Date, 4, 2) as month to get the months and substr(Date,7,4)='2015' for year.**\n"
      ]
    },
    {
      "cell_type": "code",
      "metadata": {
        "colab": {
          "base_uri": "https://localhost:8080/",
          "height": 116
        },
        "id": "66c15b1b-da4b-4951-8d7c-ac8df75836fc",
        "outputId": "3fc68bd2-775e-43f9-c9b8-1424c159a247"
      },
      "outputs": [
        {
          "output_type": "stream",
          "name": "stdout",
          "text": [
            " * sqlite:///my_data1.db\n",
            "Done.\n"
          ]
        },
        {
          "output_type": "execute_result",
          "data": {
            "text/plain": [
              "[('F9 v1.1 B1012', 'CCAFS LC-40'), ('F9 v1.1 B1015', 'CCAFS LC-40')]"
            ],
            "text/html": [
              "<table>\n",
              "    <tr>\n",
              "        <th>Booster_Version</th>\n",
              "        <th>Launch_Site</th>\n",
              "    </tr>\n",
              "    <tr>\n",
              "        <td>F9 v1.1 B1012</td>\n",
              "        <td>CCAFS LC-40</td>\n",
              "    </tr>\n",
              "    <tr>\n",
              "        <td>F9 v1.1 B1015</td>\n",
              "        <td>CCAFS LC-40</td>\n",
              "    </tr>\n",
              "</table>"
            ]
          },
          "metadata": {},
          "execution_count": 33
        }
      ],
      "source": [
        "sql SELECT BOOSTER_VERSION, LAUNCH_SITE FROM SPACEXTBL WHERE LANDING_OUTCOME = 'Failure (drone ship)' AND substr(DATE,7,4) =\"2015\";"
      ],
      "execution_count": 33
    },
    {
      "cell_type": "markdown",
      "metadata": {
        "id": "930a3560-cc1c-4587-866a-7bde5982c648"
      },
      "source": [
        "### Task 10\n",
        "\n",
        "\n",
        "\n",
        "\n",
        "##### Rank the  count of  successful landing_outcomes between the date 04-06-2010 and 20-03-2017 in descending order.\n"
      ]
    },
    {
      "cell_type": "code",
      "metadata": {
        "colab": {
          "base_uri": "https://localhost:8080/",
          "height": 74
        },
        "id": "d876bcee-cb59-42c0-a747-95560ef3f892",
        "outputId": "d5966265-e957-4435-dae4-bfefe18f82a4"
      },
      "outputs": [
        {
          "output_type": "stream",
          "name": "stdout",
          "text": [
            " * sqlite:///my_data1.db\n",
            "Done.\n"
          ]
        },
        {
          "output_type": "execute_result",
          "data": {
            "text/plain": [
              "[]"
            ],
            "text/html": [
              "<table>\n",
              "    <tr>\n",
              "        <th>Landing Outcome</th>\n",
              "        <th>Total Count</th>\n",
              "    </tr>\n",
              "</table>"
            ]
          },
          "metadata": {},
          "execution_count": 42
        }
      ],
      "source": [
        "%sql SELECT LANDING_OUTCOME as \"Landing Outcome\", COUNT(LANDING_OUTCOME) AS \"Total Count\" FROM SPACEXTBL \\\n",
        "WHERE DATE BETWEEN '2010-06-04' AND '2017-03-20' \\\n",
        "GROUP BY  LANDING_OUTCOME \\\n",
        "ORDER BY COUNT(LANDING_OUTCOME) DESC ;"
      ],
      "execution_count": 42
    },
    {
      "cell_type": "markdown",
      "metadata": {
        "id": "48ad1afc-59f0-47a6-ae2e-7b6ff90999dc"
      },
      "source": [
        "### Reference Links\n",
        "\n",
        "* <a href =\"https://cf-courses-data.s3.us.cloud-object-storage.appdomain.cloud/IBMDeveloperSkillsNetwork-DB0201EN-SkillsNetwork/labs/Labs_Coursera_V5/labs/Lab%20-%20String%20Patterns%20-%20Sorting%20-%20Grouping/instructional-labs.md.html?origin=www.coursera.org\">Hands-on Lab : String Patterns, Sorting and Grouping</a>  \n",
        "\n",
        "*  <a  href=\"https://cf-courses-data.s3.us.cloud-object-storage.appdomain.cloud/IBMDeveloperSkillsNetwork-DB0201EN-SkillsNetwork/labs/Labs_Coursera_V5/labs/Lab%20-%20Built-in%20functions%20/Hands-on_Lab__Built-in_Functions.md.html?origin=www.coursera.org\">Hands-on Lab: Built-in functions</a>\n",
        "\n",
        "*  <a  href=\"https://cf-courses-data.s3.us.cloud-object-storage.appdomain.cloud/IBMDeveloperSkillsNetwork-DB0201EN-SkillsNetwork/labs/Labs_Coursera_V5/labs/Lab%20-%20Sub-queries%20and%20Nested%20SELECTs%20/instructional-labs.md.html?origin=www.coursera.org\">Hands-on Lab : Sub-queries and Nested SELECT Statements</a>\n",
        "\n",
        "*   <a href=\"https://cf-courses-data.s3.us.cloud-object-storage.appdomain.cloud/IBMDeveloperSkillsNetwork-DB0201EN-SkillsNetwork/labs/Module%205/DB0201EN-Week3-1-3-SQLmagic.ipynb\">Hands-on Tutorial: Accessing Databases with SQL magic</a>\n",
        "\n",
        "*  <a href= \"https://cf-courses-data.s3.us.cloud-object-storage.appdomain.cloud/IBMDeveloperSkillsNetwork-DB0201EN-SkillsNetwork/labs/Module%205/DB0201EN-Week3-1-4-Analyzing.ipynb\">Hands-on Lab: Analyzing a real World Data Set</a>\n",
        "\n",
        "\n"
      ]
    },
    {
      "cell_type": "markdown",
      "metadata": {
        "id": "ec1c809f-d209-41d5-8b22-76f7cd59bb53"
      },
      "source": [
        "## Author(s)\n",
        "\n",
        "<h4> Lakshmi Holla </h4>\n"
      ]
    },
    {
      "cell_type": "markdown",
      "metadata": {
        "id": "bce3d843-e6cc-49de-a788-a31a3de09872"
      },
      "source": [
        "## Other Contributors\n",
        "\n",
        "<h4> Rav Ahuja </h4>\n"
      ]
    },
    {
      "cell_type": "markdown",
      "metadata": {
        "id": "2a98a3d8-e49d-496a-bc70-e7f473580c66"
      },
      "source": [
        "## Change log\n",
        "| Date | Version | Changed by | Change Description |\n",
        "|------|--------|--------|---------|\n",
        "| 2021-07-09 | 0.2 |Lakshmi Holla | Changes made in magic sql|\n",
        "| 2021-05-20 | 0.1 |Lakshmi Holla | Created Initial Version |\n"
      ]
    },
    {
      "cell_type": "markdown",
      "metadata": {
        "id": "76a7ca44-fa0a-45b7-a6bd-a8a4f0df1eec"
      },
      "source": [
        "## <h3 align=\"center\"> © IBM Corporation 2021. All rights reserved. <h3/>\n"
      ]
    }
  ],
  "metadata": {
    "kernelspec": {
      "display_name": "Python",
      "language": "python",
      "name": "conda-env-python-py"
    },
    "language_info": {
      "name": ""
    },
    "colab": {
      "provenance": []
    }
  },
  "nbformat": 4,
  "nbformat_minor": 0
}